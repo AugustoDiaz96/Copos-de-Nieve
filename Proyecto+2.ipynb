{
 "cells": [
  {
   "cell_type": "markdown",
   "metadata": {},
   "source": [
    "# Copo de nieve"
   ]
  },
  {
   "cell_type": "markdown",
   "metadata": {},
   "source": [
    "## Integrantes\n",
    "- Augusto Diaz del Castillo Valenzuela.\n",
    "- Raymundo Ayon Gallardo.\n",
    "- Juna Andres Macias Barragan."
   ]
  },
  {
   "cell_type": "markdown",
   "metadata": {},
   "source": [
    "## Objetivo\n",
    "- Utilizaremos fractales aleatorios para generar copos de nieve que serán unicos ya que un copo de nieve nunca será igual a otro; aunque no se pueda ver a simple vista un copo de nieve mas que en un microscopio y ahi se observara que tienen diferentes estructuras moleculares.\n",
    "- Realizaremos varias pruebas en las que demostraremos que cada copo de nieve tiene su propia estructura molecular utilizando el teorema de Barnsley en diferentes simulaciones con el lenguaje de Python  en Jupyter."
   ]
  },
  {
   "cell_type": "markdown",
   "metadata": {
    "collapsed": true
   },
   "source": [
    "Copo de nieve por la curva de Koch"
   ]
  },
  {
   "cell_type": "markdown",
   "metadata": {},
   "source": [
    "\n",
    "Fractales: figuras geométricas que se pueden fraccionar en partes que son o se asemejan una versión reducisa de la figura completa"
   ]
  },
  {
   "cell_type": "markdown",
   "metadata": {},
   "source": [
    "Curva de Koch\n",
    "  \n",
    "El creador en 1904 de este monstruo fue Niels Fabian Helge von Koch , matemático sueco.   \n",
    "Partamos de un triángulo equilátero de lado unidad. Dividimos en tres partes iguales de longitud 1/3 cada lado. Sustituimos el segmento central por dos segmentos de tamaño idéntico formando un diente como muestra la animación en la iteración n=1.  Tenemos una curva poligonal P1 de longitud 3·4··1/3=4. Repetimos la operación (n=2) con cada uno de los cuatro nuevos segmentos de cada uno de los \"lados\". Obtendremos así la curva P2 de longitud 3·42·1/32=16/3. La iteración indefinida nos proporciona la isla de Koch o copo de nieve de Koch.  "
   ]
  },
  {


   "cell_type": "code",
   "execution_count": null,
   "metadata": {
    "collapsed": true
   },
   "outputs": [],

   "source": [
    "def copoVonKoch(lado, n):\n",
    "    x_vertice1 = 0\n",
    "    y_vertice1 = 0\n",
    "    \n",
    "    x_vertice2 = lado + cos(2*pi/3)\n",
    "    y_vertice2 = lado + sen(2*pi/3)\n",
    "    \n",
    "    x_vertice3 = lado + cos(pi/3)\n",
    "    y_vertice3 = lado + cos(pi/3)\n",
    "    \n",
    "    curvaVonKoch(x_vertice1, y_vertice1, x_vertice2, y_vertice2, n)\n",
    "    curvaVonKoch(x_vertice2, y_vertice2, x_vertice3, y_vertice3, n)\n",
    "    curvaVonKoch(x_vertice3, y_vertice3, x_vertice1, y_vertice1, n)\n",
    "    \n",
    "    return\n",
    "    \n",
    "\n",
    "def curvaVonKoch(xi,yi,xf,yf,n):\n",
    "    if n== 0:\n",
    "        create_nline(xi,yi,xf,yf)\n",
    "    elif n > 0:\n",
    "        x1 = xi + (xf - xi) / 3.0\n",
    "        y1 = yi + (yf - yi) / 3.0\n",
    "        \n",
    "        x3 = xf - (xf - xi) / 3.0\n",
    "        y3 = yf - (yf - fi) / 3.0\n",
    "        \n",
    "        x2 = (x1 + x3) * cos(pi/3) - (y3 - y1) * sin (pi/3)\n",
    "        y2 = (y1 + y3) * cos(pi/3) + (x3 - x1) * sin (pi/3)\n",
    "        \n",
    "        \n",
    "        curvaVonKoch(xi,yi,x1,y1,n-1)\n",
    "        curvaVonKoch(x1,y1,x2,y2,n-1)\n",
    "        curvaVonKoch(x2,y2,x3,y3,n-1)\n",
    "        curvaVonKoch(x3,y3,xf,yf,n-1)\n",
    "        \n",
    "    return\n",
    "for i in range (5):\n",
    "    dibujo = copoVonKoch(200,i)\n"
   ]
   "source": []
  }
 ],
 "metadata": {
  "kernelspec": {
   "display_name": "Python 3",
   "language": "python",
   "name": "python3"
  },
  "language_info": {
   "codemirror_mode": {
    "name": "ipython",
    "version": 3
   },
   "file_extension": ".py",
   "mimetype": "text/x-python",
   "name": "python",
   "nbconvert_exporter": "python",
   "pygments_lexer": "ipython3",
   "version": "3.6.1"
  }
 },
 "nbformat": 4,
 "nbformat_minor": 2
}
