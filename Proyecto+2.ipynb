{
 "cells": [
  {
   "cell_type": "markdown",
   "metadata": {},
   "source": [
    "# Copo de nieve"
   ]
  },
  {
   "cell_type": "markdown",
   "metadata": {},
   "source": [
    "## Integrantes\n",
    "- Augusto Diaz del Castillo Valenzuela.\n",
    "- Raymundo Ayon Gallardo.\n",
    "- Juna Andres Macias Barragan."
   ]
  },
  {
   "cell_type": "markdown",
   "metadata": {},
   "source": [
    "## Objetivo\n",
    "- Utilizaremos fractales aleatorios para generar copos de nieve que serán unicos ya que un copo de nieve nunca será igual a otro; aunque no se pueda ver a simple vista un copo de nieve mas que en un microscopio y ahi se observara que tienen diferentes estructuras moleculares.\n",
    "- Realizaremos varias pruebas en las que demostraremos que cada copo de nieve tiene su propia estructura molecular utilizando el teorema de Barnsley en diferentes simulaciones con el lenguaje de Python  en Jupyter."
   ]
  },
  {
   "cell_type": "code",
   "execution_count": null,
   "metadata": {
    "collapsed": true
   },
   "outputs": [],
   "source": []
  }
 ],
 "metadata": {
  "kernelspec": {
   "display_name": "Python 3",
   "language": "python",
   "name": "python3"
  },
  "language_info": {
   "codemirror_mode": {
    "name": "ipython",
    "version": 3
   },
   "file_extension": ".py",
   "mimetype": "text/x-python",
   "name": "python",
   "nbconvert_exporter": "python",
   "pygments_lexer": "ipython3",
   "version": "3.6.1"
  }
 },
 "nbformat": 4,
 "nbformat_minor": 2
}
